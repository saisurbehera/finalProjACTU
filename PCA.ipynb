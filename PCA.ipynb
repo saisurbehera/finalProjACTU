{
 "cells": [
  {
   "cell_type": "code",
   "execution_count": 1,
   "id": "095f721d",
   "metadata": {},
   "outputs": [
    {
     "name": "stdout",
     "output_type": "stream",
     "text": [
      "README.md            df_mod_raw.csv       travel insurance.csv\r\n",
      "df_mod_final.csv     project.ipynb\r\n"
     ]
    }
   ],
   "source": [
    "!ls"
   ]
  },
  {
   "cell_type": "code",
   "execution_count": 2,
   "id": "aa0d5472",
   "metadata": {},
   "outputs": [
    {
     "data": {
      "text/html": [
       "<div>\n",
       "<style scoped>\n",
       "    .dataframe tbody tr th:only-of-type {\n",
       "        vertical-align: middle;\n",
       "    }\n",
       "\n",
       "    .dataframe tbody tr th {\n",
       "        vertical-align: top;\n",
       "    }\n",
       "\n",
       "    .dataframe thead th {\n",
       "        text-align: right;\n",
       "    }\n",
       "</style>\n",
       "<table border=\"1\" class=\"dataframe\">\n",
       "  <thead>\n",
       "    <tr style=\"text-align: right;\">\n",
       "      <th></th>\n",
       "      <th>Agency</th>\n",
       "      <th>Agency Type</th>\n",
       "      <th>Distribution Channel</th>\n",
       "      <th>Product Name</th>\n",
       "      <th>Claim</th>\n",
       "      <th>Duration</th>\n",
       "      <th>Destination</th>\n",
       "      <th>Net Sales</th>\n",
       "      <th>Commision (in value)</th>\n",
       "      <th>Gender</th>\n",
       "      <th>Age</th>\n",
       "    </tr>\n",
       "  </thead>\n",
       "  <tbody>\n",
       "    <tr>\n",
       "      <th>0</th>\n",
       "      <td>CBH</td>\n",
       "      <td>Travel Agency</td>\n",
       "      <td>Offline</td>\n",
       "      <td>Comprehensive Plan</td>\n",
       "      <td>No</td>\n",
       "      <td>186</td>\n",
       "      <td>MALAYSIA</td>\n",
       "      <td>-29.0</td>\n",
       "      <td>9.57</td>\n",
       "      <td>F</td>\n",
       "      <td>81</td>\n",
       "    </tr>\n",
       "    <tr>\n",
       "      <th>1</th>\n",
       "      <td>CBH</td>\n",
       "      <td>Travel Agency</td>\n",
       "      <td>Offline</td>\n",
       "      <td>Comprehensive Plan</td>\n",
       "      <td>No</td>\n",
       "      <td>186</td>\n",
       "      <td>MALAYSIA</td>\n",
       "      <td>-29.0</td>\n",
       "      <td>9.57</td>\n",
       "      <td>F</td>\n",
       "      <td>71</td>\n",
       "    </tr>\n",
       "    <tr>\n",
       "      <th>2</th>\n",
       "      <td>CWT</td>\n",
       "      <td>Travel Agency</td>\n",
       "      <td>Online</td>\n",
       "      <td>Rental Vehicle Excess Insurance</td>\n",
       "      <td>No</td>\n",
       "      <td>65</td>\n",
       "      <td>AUSTRALIA</td>\n",
       "      <td>-49.5</td>\n",
       "      <td>29.70</td>\n",
       "      <td>NaN</td>\n",
       "      <td>32</td>\n",
       "    </tr>\n",
       "    <tr>\n",
       "      <th>3</th>\n",
       "      <td>CWT</td>\n",
       "      <td>Travel Agency</td>\n",
       "      <td>Online</td>\n",
       "      <td>Rental Vehicle Excess Insurance</td>\n",
       "      <td>No</td>\n",
       "      <td>60</td>\n",
       "      <td>AUSTRALIA</td>\n",
       "      <td>-39.6</td>\n",
       "      <td>23.76</td>\n",
       "      <td>NaN</td>\n",
       "      <td>32</td>\n",
       "    </tr>\n",
       "    <tr>\n",
       "      <th>4</th>\n",
       "      <td>CWT</td>\n",
       "      <td>Travel Agency</td>\n",
       "      <td>Online</td>\n",
       "      <td>Rental Vehicle Excess Insurance</td>\n",
       "      <td>No</td>\n",
       "      <td>79</td>\n",
       "      <td>ITALY</td>\n",
       "      <td>-19.8</td>\n",
       "      <td>11.88</td>\n",
       "      <td>NaN</td>\n",
       "      <td>41</td>\n",
       "    </tr>\n",
       "  </tbody>\n",
       "</table>\n",
       "</div>"
      ],
      "text/plain": [
       "  Agency    Agency Type Distribution Channel                     Product Name  \\\n",
       "0    CBH  Travel Agency              Offline               Comprehensive Plan   \n",
       "1    CBH  Travel Agency              Offline               Comprehensive Plan   \n",
       "2    CWT  Travel Agency               Online  Rental Vehicle Excess Insurance   \n",
       "3    CWT  Travel Agency               Online  Rental Vehicle Excess Insurance   \n",
       "4    CWT  Travel Agency               Online  Rental Vehicle Excess Insurance   \n",
       "\n",
       "  Claim  Duration Destination  Net Sales  Commision (in value) Gender  Age  \n",
       "0    No       186    MALAYSIA      -29.0                  9.57      F   81  \n",
       "1    No       186    MALAYSIA      -29.0                  9.57      F   71  \n",
       "2    No        65   AUSTRALIA      -49.5                 29.70    NaN   32  \n",
       "3    No        60   AUSTRALIA      -39.6                 23.76    NaN   32  \n",
       "4    No        79       ITALY      -19.8                 11.88    NaN   41  "
      ]
     },
     "execution_count": 2,
     "metadata": {},
     "output_type": "execute_result"
    }
   ],
   "source": [
    "import numpy as np\n",
    "import pandas as pd\n",
    "from collections import Counter\n",
    "\n",
    "import plotly.express as px\n",
    "import seaborn as sns\n",
    "import matplotlib.pyplot as plt\n",
    "\n",
    "# import geopandas\n",
    "\n",
    "df = pd.read_csv(\"travel insurance.csv\")\n",
    "df.head()"
   ]
  },
  {
   "cell_type": "code",
   "execution_count": 3,
   "id": "5973df5d",
   "metadata": {},
   "outputs": [
    {
     "data": {
      "text/plain": [
       "Counter({True: 678, False: 62648})"
      ]
     },
     "execution_count": 3,
     "metadata": {},
     "output_type": "execute_result"
    }
   ],
   "source": [
    "Counter(df[\"Net Sales\"]<0)"
   ]
  },
  {
   "cell_type": "code",
   "execution_count": 4,
   "id": "590f912c",
   "metadata": {},
   "outputs": [
    {
     "data": {
      "text/plain": [
       "Destination\n",
       "TURKS AND CAICOS ISLANDS    128.000000\n",
       "CAMEROON                    112.000000\n",
       "GUATEMALA                   112.000000\n",
       "SAMOA                       112.000000\n",
       "TAJIKISTAN                  112.000000\n",
       "PUERTO RICO                 106.666667\n",
       "JAMAICA                     101.333333\n",
       "TURKMENISTAN                 99.500000\n",
       "CAYMAN ISLANDS               96.000000\n",
       "FRENCH POLYNESIA             89.000000\n",
       "KYRGYZSTAN                   85.333333\n",
       "CYPRUS                       81.713333\n",
       "VENEZUELA                    81.400000\n",
       "SENEGAL                      80.000000\n",
       "GUINEA-BISSAU                80.000000\n",
       "SIERRA LEONE                 80.000000\n",
       "DOMINICAN REPUBLIC           80.000000\n",
       "ALBANIA                      80.000000\n",
       "VIRGIN ISLANDS, U.S.         80.000000\n",
       "BOTSWANA                     80.000000\n",
       "Name: Net Sales, dtype: float64"
      ]
     },
     "execution_count": 4,
     "metadata": {},
     "output_type": "execute_result"
    }
   ],
   "source": [
    "df.groupby(\"Destination\").mean()[\"Net Sales\"].sort_values(ascending= False).head(20)"
   ]
  },
  {
   "cell_type": "code",
   "execution_count": 5,
   "id": "f88a9d30",
   "metadata": {},
   "outputs": [
    {
     "data": {
      "text/plain": [
       "Destination\n",
       "MYANMAR                                   20.648511\n",
       "BRUNEI DARUSSALAM                         18.644872\n",
       "IRAN, ISLAMIC REPUBLIC OF                 14.026667\n",
       "BARBADOS                                  14.000000\n",
       "MOLDOVA, REPUBLIC OF                      14.000000\n",
       "GUADELOUPE                                10.000000\n",
       "BENIN                                     10.000000\n",
       "ANGOLA                                     0.000000\n",
       "ZAMBIA                                   -14.333333\n",
       "KOREA, DEMOCRATIC PEOPLE'S REPUBLIC OF   -26.000000\n",
       "Name: Net Sales, dtype: float64"
      ]
     },
     "execution_count": 5,
     "metadata": {},
     "output_type": "execute_result"
    }
   ],
   "source": [
    "df.groupby(\"Destination\").mean()[\"Net Sales\"].sort_values(ascending= False).tail(10)"
   ]
  },
  {
   "cell_type": "code",
   "execution_count": 6,
   "id": "5ab88a38",
   "metadata": {},
   "outputs": [
    {
     "name": "stdout",
     "output_type": "stream",
     "text": [
      "<class 'pandas.core.frame.DataFrame'>\n",
      "RangeIndex: 63326 entries, 0 to 63325\n",
      "Data columns (total 11 columns):\n",
      " #   Column                Non-Null Count  Dtype  \n",
      "---  ------                --------------  -----  \n",
      " 0   Agency                63326 non-null  object \n",
      " 1   Agency Type           63326 non-null  object \n",
      " 2   Distribution Channel  63326 non-null  object \n",
      " 3   Product Name          63326 non-null  object \n",
      " 4   Claim                 63326 non-null  object \n",
      " 5   Duration              63326 non-null  int64  \n",
      " 6   Destination           63326 non-null  object \n",
      " 7   Net Sales             63326 non-null  float64\n",
      " 8   Commision (in value)  63326 non-null  float64\n",
      " 9   Gender                18219 non-null  object \n",
      " 10  Age                   63326 non-null  int64  \n",
      "dtypes: float64(2), int64(2), object(7)\n",
      "memory usage: 5.3+ MB\n"
     ]
    }
   ],
   "source": [
    "df.info()"
   ]
  },
  {
   "cell_type": "code",
   "execution_count": 7,
   "id": "d36e0ada",
   "metadata": {},
   "outputs": [
    {
     "data": {
      "text/html": [
       "<div>\n",
       "<style scoped>\n",
       "    .dataframe tbody tr th:only-of-type {\n",
       "        vertical-align: middle;\n",
       "    }\n",
       "\n",
       "    .dataframe tbody tr th {\n",
       "        vertical-align: top;\n",
       "    }\n",
       "\n",
       "    .dataframe thead th {\n",
       "        text-align: right;\n",
       "    }\n",
       "</style>\n",
       "<table border=\"1\" class=\"dataframe\">\n",
       "  <thead>\n",
       "    <tr style=\"text-align: right;\">\n",
       "      <th></th>\n",
       "      <th>Duration</th>\n",
       "      <th>Net Sales</th>\n",
       "      <th>Commision (in value)</th>\n",
       "      <th>Age</th>\n",
       "    </tr>\n",
       "  </thead>\n",
       "  <tbody>\n",
       "    <tr>\n",
       "      <th>count</th>\n",
       "      <td>63326.000000</td>\n",
       "      <td>63326.000000</td>\n",
       "      <td>63326.000000</td>\n",
       "      <td>63326.000000</td>\n",
       "    </tr>\n",
       "    <tr>\n",
       "      <th>mean</th>\n",
       "      <td>49.317074</td>\n",
       "      <td>40.702018</td>\n",
       "      <td>9.809992</td>\n",
       "      <td>39.969981</td>\n",
       "    </tr>\n",
       "    <tr>\n",
       "      <th>std</th>\n",
       "      <td>101.791566</td>\n",
       "      <td>48.845637</td>\n",
       "      <td>19.804388</td>\n",
       "      <td>14.017010</td>\n",
       "    </tr>\n",
       "    <tr>\n",
       "      <th>min</th>\n",
       "      <td>-2.000000</td>\n",
       "      <td>-389.000000</td>\n",
       "      <td>0.000000</td>\n",
       "      <td>0.000000</td>\n",
       "    </tr>\n",
       "    <tr>\n",
       "      <th>25%</th>\n",
       "      <td>9.000000</td>\n",
       "      <td>18.000000</td>\n",
       "      <td>0.000000</td>\n",
       "      <td>35.000000</td>\n",
       "    </tr>\n",
       "    <tr>\n",
       "      <th>50%</th>\n",
       "      <td>22.000000</td>\n",
       "      <td>26.530000</td>\n",
       "      <td>0.000000</td>\n",
       "      <td>36.000000</td>\n",
       "    </tr>\n",
       "    <tr>\n",
       "      <th>75%</th>\n",
       "      <td>53.000000</td>\n",
       "      <td>48.000000</td>\n",
       "      <td>11.550000</td>\n",
       "      <td>43.000000</td>\n",
       "    </tr>\n",
       "    <tr>\n",
       "      <th>max</th>\n",
       "      <td>4881.000000</td>\n",
       "      <td>810.000000</td>\n",
       "      <td>283.500000</td>\n",
       "      <td>118.000000</td>\n",
       "    </tr>\n",
       "  </tbody>\n",
       "</table>\n",
       "</div>"
      ],
      "text/plain": [
       "           Duration     Net Sales  Commision (in value)           Age\n",
       "count  63326.000000  63326.000000          63326.000000  63326.000000\n",
       "mean      49.317074     40.702018              9.809992     39.969981\n",
       "std      101.791566     48.845637             19.804388     14.017010\n",
       "min       -2.000000   -389.000000              0.000000      0.000000\n",
       "25%        9.000000     18.000000              0.000000     35.000000\n",
       "50%       22.000000     26.530000              0.000000     36.000000\n",
       "75%       53.000000     48.000000             11.550000     43.000000\n",
       "max     4881.000000    810.000000            283.500000    118.000000"
      ]
     },
     "execution_count": 7,
     "metadata": {},
     "output_type": "execute_result"
    }
   ],
   "source": [
    "df.describe()"
   ]
  },
  {
   "cell_type": "code",
   "execution_count": 8,
   "id": "726e1b55",
   "metadata": {},
   "outputs": [
    {
     "name": "stderr",
     "output_type": "stream",
     "text": [
      "/var/folders/j3/gl72gkvn01lf0phm29rwlwrw0000gn/T/ipykernel_7269/1073788948.py:5: UserWarning: You have mixed positional and keyword arguments, some input may be discarded.\n",
      "  plt.legend(patches, loc='lower right',labels=product_cat.index,)\n"
     ]
    },
    {
     "data": {
      "image/png": "[encoded data removed]",
      "text/plain": [
       "<Figure size 1440x1080 with 1 Axes>"
      ]
     },
     "metadata": {},
     "output_type": "display_data"
    }
   ],
   "source": [
    "product_cat = df.groupby(\"Product Name\").size().sort_values(ascending=False)\n",
    "\n",
    "f, axes = plt.subplots(1,1, figsize=(20,15))\n",
    "patches, text, _ = plt.pie(product_cat.values, autopct='%.02f')\n",
    "plt.legend(patches, loc='lower right',labels=product_cat.index,)\n",
    "plt.show()"
   ]
  },
  {
   "cell_type": "code",
   "execution_count": 9,
   "id": "eb0fde6c",
   "metadata": {},
   "outputs": [
    {
     "name": "stderr",
     "output_type": "stream",
     "text": [
      "/var/folders/j3/gl72gkvn01lf0phm29rwlwrw0000gn/T/ipykernel_7269/1567664424.py:7: UserWarning: You have mixed positional and keyword arguments, some input may be discarded.\n",
      "  plt.legend(patches, loc='lower right',labels=product_cat.index,)\n"
     ]
    },
    {
     "data": {
      "image/png": "[encoded data removed]",
      "text/plain": [
       "<Figure size 504x504 with 1 Axes>"
      ]
     },
     "metadata": {},
     "output_type": "display_data"
    }
   ],
   "source": [
    "# df.groupby(\"Distribution Channel\").size().plot.pie(figsize=(5, 5),subplots=True)\n",
    "\n",
    "product_cat = df.groupby(\"Distribution Channel\").size().sort_values(ascending=False)\n",
    "\n",
    "f, axes = plt.subplots(1,1, figsize=(7,7))\n",
    "patches, text, _ = plt.pie(product_cat.values, autopct='%.02f')\n",
    "plt.legend(patches, loc='lower right',labels=product_cat.index,)\n",
    "plt.show()"
   ]
  },
  {
   "cell_type": "code",
   "execution_count": 10,
   "id": "4195c3ee",
   "metadata": {},
   "outputs": [
    {
     "data": {
      "text/plain": [
       "array([<AxesSubplot:ylabel='0'>], dtype=object)"
      ]
     },
     "execution_count": 10,
     "metadata": {},
     "output_type": "execute_result"
    },
    {
     "data": {
      "image/png": "[encoded data removed]",
      "text/plain": [
       "<Figure size 432x288 with 1 Axes>"
      ]
     },
     "metadata": {},
     "output_type": "display_data"
    }
   ],
   "source": [
    "pd.DataFrame(df.groupby(\"Claim\").size()).plot.pie(subplots=True,title =\"Claim\")"
   ]
  },
  {
   "cell_type": "code",
   "execution_count": 11,
   "id": "bcc09fad",
   "metadata": {},
   "outputs": [
    {
     "data": {
      "application/vnd.plotly.v1+json": {
       "config": {
        "plotlyServerURL": "https://plot.ly"
       },
       "data": [
        {
         "domain": {
          "x": [
           0,
           1
          ],
          "y": [
           0,
           1
          ]
         },
         "hovertemplate": "DestinationNew=%{label}<br>counts=%{value}<extra></extra>",
         "labels": [
          "Others",
          "Others",
          "Others",
          "Others",
          "AUSTRALIA",
          "Others",
          "Others",
          "Others",
          "Others",
          "Others",
          "Others",
          "Others",
          "Others",
          "Others",
          "Others",
          "Others",
          "Others",
          "Others",
          "Others",
          "Others",
          "Others",
          "Others",
          "Others",
          "Others",
          "Others",
          "Others",
          "CHINA",
          "Others",
          "Others",
          "Others",
          "Others",
          "Others",
          "Others",
          "Others",
          "Others",
          "Others",
          "Others",
          "Others",
          "Others",
          "Others",
          "Others",
          "Others",
          "Others",
          "Others",
          "Others",
          "Others",
          "Others",
          "Others",
          "Others",
          "Others",
          "Others",
          "Others",
          "Others",
          "HONG KONG",
          "Others",
          "Others",
          "INDIA",
          "INDONESIA",
          "Others",
          "Others",
          "Others",
          "Others",
          "Others",
          "JAPAN",
          "Others",
          "Others",
          "Others",
          "Others",
          "KOREA, REPUBLIC OF",
          "Others",
          "Others",
          "Others",
          "Others",
          "Others",
          "Others",
          "Others",
          "Others",
          "Others",
          "Others",
          "MALAYSIA",
          "Others",
          "Others",
          "Others",
          "Others",
          "Others",
          "Others",
          "Others",
          "Others",
          "Others",
          "Others",
          "Others",
          "Others",
          "Others",
          "Others",
          "Others",
          "Others",
          "Others",
          "Others",
          "Others",
          "Others",
          "Others",
          "Others",
          "PHILIPPINES",
          "Others",
          "Others",
          "Others",
          "Others",
          "Others",
          "Others",
          "Others",
          "Others",
          "Others",
          "Others",
          "Others",
          "Others",
          "Others",
          "Others",
          "Others",
          "SINGAPORE",
          "Others",
          "Others",
          "Others",
          "Others",
          "Others",
          "Others",
          "Others",
          "Others",
          "Others",
          "Others",
          "THAILAND",
          "Others",
          "Others",
          "Others",
          "Others",
          "Others",
          "Others",
          "Others",
          "Others",
          "Others",
          "UNITED KINGDOM",
          "UNITED STATES",
          "Others",
          "Others",
          "Others",
          "Others",
          "VIET NAM",
          "Others",
          "Others",
          "Others"
         ],
         "legendgroup": "",
         "name": "",
         "showlegend": true,
         "type": "pie",
         "values": [
          1,
          1,
          22,
          1,
          3694,
          102,
          8,
          13,
          101,
          1,
          3,
          46,
          1,
          3,
          4,
          10,
          1,
          1,
          37,
          780,
          12,
          493,
          1,
          528,
          2,
          12,
          4796,
          15,
          7,
          56,
          15,
          69,
          105,
          1,
          7,
          21,
          9,
          6,
          3,
          13,
          96,
          483,
          2,
          15,
          456,
          5,
          110,
          1,
          9,
          1,
          4,
          1,
          2,
          2411,
          23,
          117,
          2251,
          3452,
          3,
          123,
          48,
          455,
          3,
          2061,
          16,
          15,
          21,
          1,
          1479,
          8,
          6,
          149,
          3,
          5,
          1,
          5,
          9,
          110,
          3,
          5930,
          25,
          2,
          11,
          11,
          33,
          1,
          44,
          15,
          806,
          5,
          120,
          375,
          1,
          537,
          1,
          2,
          164,
          18,
          29,
          4,
          11,
          92,
          2490,
          34,
          96,
          3,
          17,
          1,
          2,
          23,
          80,
          1,
          1,
          62,
          1,
          7,
          1,
          1,
          13255,
          10,
          1,
          162,
          337,
          256,
          64,
          283,
          1090,
          1,
          21,
          5894,
          1,
          4,
          7,
          80,
          2,
          1,
          4,
          10,
          286,
          1309,
          2530,
          1,
          10,
          5,
          5,
          1669,
          1,
          3,
          3
         ]
        }
       ],
       "layout": {
        "legend": {
         "tracegroupgap": 0
        },
        "template": {
         "data": {
          "bar": [
           {
            "error_x": {
             "color": "#2a3f5f"
            },
            "error_y": {
             "color": "#2a3f5f"
            },
            "marker": {
             "line": {
              "color": "#E5ECF6",
              "width": 0.5
             },
             "pattern": {
              "fillmode": "overlay",
              "size": 10,
              "solidity": 0.2
             }
            },
            "type": "bar"
           }
          ],
          "barpolar": [
           {
            "marker": {
             "line": {
              "color": "#E5ECF6",
              "width": 0.5
             },
             "pattern": {
              "fillmode": "overlay",
              "size": 10,
              "solidity": 0.2
             }
            },
            "type": "barpolar"
           }
          ],
          "carpet": [
           {
            "aaxis": {
             "endlinecolor": "#2a3f5f",
             "gridcolor": "white",
             "linecolor": "white",
             "minorgridcolor": "white",
             "startlinecolor": "#2a3f5f"
            },
            "baxis": {
             "endlinecolor": "#2a3f5f",
             "gridcolor": "white",
             "linecolor": "white",
             "minorgridcolor": "white",
             "startlinecolor": "#2a3f5f"
            },
            "type": "carpet"
           }
          ],
          "choropleth": [
           {
            "colorbar": {
             "outlinewidth": 0,
             "ticks": ""
            },
            "type": "choropleth"
           }
          ],
          "contour": [
           {
            "colorbar": {
             "outlinewidth": 0,
             "ticks": ""
            },
            "colorscale": [
             [
              0,
              "#0d0887"
             ],
             [
              0.1111111111111111,
              "#46039f"
             ],
             [
              0.2222222222222222,
              "#7201a8"
             ],
             [
              0.3333333333333333,
              "#9c179e"
             ],
             [
              0.4444444444444444,
              "#bd3786"
             ],
             [
              0.5555555555555556,
              "#d8576b"
             ],
             [
              0.6666666666666666,
              "#ed7953"
             ],
             [
              0.7777777777777778,
              "#fb9f3a"
             ],
             [
              0.8888888888888888,
              "#fdca26"
             ],
             [
              1,
              "#f0f921"
             ]
            ],
            "type": "contour"
           }
          ],
          "contourcarpet": [
           {
            "colorbar": {
             "outlinewidth": 0,
             "ticks": ""
            },
            "type": "contourcarpet"
           }
          ],
          "heatmap": [
           {
            "colorbar": {
             "outlinewidth": 0,
             "ticks": ""
            },
            "colorscale": [
             [
              0,
              "#0d0887"
             ],
             [
              0.1111111111111111,
              "#46039f"
             ],
             [
              0.2222222222222222,
              "#7201a8"
             ],
             [
              0.3333333333333333,
              "#9c179e"
             ],
             [
              0.4444444444444444,
              "#bd3786"
             ],
             [
              0.5555555555555556,
              "#d8576b"
             ],
             [
              0.6666666666666666,
              "#ed7953"
             ],
             [
              0.7777777777777778,
              "#fb9f3a"
             ],
             [
              0.8888888888888888,
              "#fdca26"
             ],
             [
              1,
              "#f0f921"
             ]
            ],
            "type": "heatmap"
           }
          ],
          "heatmapgl": [
           {
            "colorbar": {
             "outlinewidth": 0,
             "ticks": ""
            },
            "colorscale": [
             [
              0,
              "#0d0887"
             ],
             [
              0.1111111111111111,
              "#46039f"
             ],
             [
              0.2222222222222222,
              "#7201a8"
             ],
             [
              0.3333333333333333,
              "#9c179e"
             ],
             [
              0.4444444444444444,
              "#bd3786"
             ],
             [
              0.5555555555555556,
              "#d8576b"
             ],
             [
              0.6666666666666666,
              "#ed7953"
             ],
             [
              0.7777777777777778,
              "#fb9f3a"
             ],
             [
              0.8888888888888888,
              "#fdca26"
             ],
             [
              1,
              "#f0f921"
             ]
            ],
            "type": "heatmapgl"
           }
          ],
          "histogram": [
           {
            "marker": {
             "pattern": {
              "fillmode": "overlay",
              "size": 10,
              "solidity": 0.2
             }
            },
            "type": "histogram"
           }
          ],
          "histogram2d": [
           {
            "colorbar": {
             "outlinewidth": 0,
             "ticks": ""
            },
            "colorscale": [
             [
              0,
              "#0d0887"
             ],
             [
              0.1111111111111111,
              "#46039f"
             ],
             [
              0.2222222222222222,
              "#7201a8"
             ],
             [
              0.3333333333333333,
              "#9c179e"
             ],
             [
              0.4444444444444444,
              "#bd3786"
             ],
             [
              0.5555555555555556,
              "#d8576b"
             ],
             [
              0.6666666666666666,
              "#ed7953"
             ],
             [
              0.7777777777777778,
              "#fb9f3a"
             ],
             [
              0.8888888888888888,
              "#fdca26"
             ],
             [
              1,
              "#f0f921"
             ]
            ],
            "type": "histogram2d"
           }
          ],
          "histogram2dcontour": [
           {
            "colorbar": {
             "outlinewidth": 0,
             "ticks": ""
            },
            "colorscale": [
             [
              0,
              "#0d0887"
             ],
             [
              0.1111111111111111,
              "#46039f"
             ],
             [
              0.2222222222222222,
              "#7201a8"
             ],
             [
              0.3333333333333333,
              "#9c179e"
             ],
             [
              0.4444444444444444,
              "#bd3786"
             ],
             [
              0.5555555555555556,
              "#d8576b"
             ],
             [
              0.6666666666666666,
              "#ed7953"
             ],
             [
              0.7777777777777778,
              "#fb9f3a"
             ],
             [
              0.8888888888888888,
              "#fdca26"
             ],
             [
              1,
              "#f0f921"
             ]
            ],
            "type": "histogram2dcontour"
           }
          ],
          "mesh3d": [
           {
            "colorbar": {
             "outlinewidth": 0,
             "ticks": ""
            },
            "type": "mesh3d"
           }
          ],
          "parcoords": [
           {
            "line": {
             "colorbar": {
              "outlinewidth": 0,
              "ticks": ""
             }
            },
            "type": "parcoords"
           }
          ],
          "pie": [
           {
            "automargin": true,
            "type": "pie"
           }
          ],
          "scatter": [
           {
            "marker": {
             "colorbar": {
              "outlinewidth": 0,
              "ticks": ""
             }
            },
            "type": "scatter"
           }
          ],
          "scatter3d": [
           {
            "line": {
             "colorbar": {
              "outlinewidth": 0,
              "ticks": ""
             }
            },
            "marker": {
             "colorbar": {
              "outlinewidth": 0,
              "ticks": ""
             }
            },
            "type": "scatter3d"
           }
          ],
          "scattercarpet": [
           {
            "marker": {
             "colorbar": {
              "outlinewidth": 0,
              "ticks": ""
             }
            },
            "type": "scattercarpet"
           }
          ],
          "scattergeo": [
           {
            "marker": {
             "colorbar": {
              "outlinewidth": 0,
              "ticks": ""
             }
            },
            "type": "scattergeo"
           }
          ],
          "scattergl": [
           {
            "marker": {
             "colorbar": {
              "outlinewidth": 0,
              "ticks": ""
             }
            },
            "type": "scattergl"
           }
          ],
          "scattermapbox": [
           {
            "marker": {
             "colorbar": {
              "outlinewidth": 0,
              "ticks": ""
             }
            },
            "type": "scattermapbox"
           }
          ],
          "scatterpolar": [
           {
            "marker": {
             "colorbar": {
              "outlinewidth": 0,
              "ticks": ""
             }
            },
            "type": "scatterpolar"
           }
          ],
          "scatterpolargl": [
           {
            "marker": {
             "colorbar": {
              "outlinewidth": 0,
              "ticks": ""
             }
            },
            "type": "scatterpolargl"
           }
          ],
          "scatterternary": [
           {
            "marker": {
             "colorbar": {
              "outlinewidth": 0,
              "ticks": ""
             }
            },
            "type": "scatterternary"
           }
          ],
          "surface": [
           {
            "colorbar": {
             "outlinewidth": 0,
             "ticks": ""
            },
            "colorscale": [
             [
              0,
              "#0d0887"
             ],
             [
              0.1111111111111111,
              "#46039f"
             ],
             [
              0.2222222222222222,
              "#7201a8"
             ],
             [
              0.3333333333333333,
              "#9c179e"
             ],
             [
              0.4444444444444444,
              "#bd3786"
             ],
             [
              0.5555555555555556,
              "#d8576b"
             ],
             [
              0.6666666666666666,
              "#ed7953"
             ],
             [
              0.7777777777777778,
              "#fb9f3a"
             ],
             [
              0.8888888888888888,
              "#fdca26"
             ],
             [
              1,
              "#f0f921"
             ]
            ],
            "type": "surface"
           }
          ],
          "table": [
           {
            "cells": {
             "fill": {
              "color": "#EBF0F8"
             },
             "line": {
              "color": "white"
             }
            },
            "header": {
             "fill": {
              "color": "#C8D4E3"
             },
             "line": {
              "color": "white"
             }
            },
            "type": "table"
           }
          ]
         },
         "layout": {
          "annotationdefaults": {
           "arrowcolor": "#2a3f5f",
           "arrowhead": 0,
           "arrowwidth": 1
          },
          "autotypenumbers": "strict",
          "coloraxis": {
           "colorbar": {
            "outlinewidth": 0,
            "ticks": ""
           }
          },
          "colorscale": {
           "diverging": [
            [
             0,
             "#8e0152"
            ],
            [
             0.1,
             "#c51b7d"
            ],
            [
             0.2,
             "#de77ae"
            ],
            [
             0.3,
             "#f1b6da"
            ],
            [
             0.4,
             "#fde0ef"
            ],
            [
             0.5,
             "#f7f7f7"
            ],
            [
             0.6,
             "#e6f5d0"
            ],
            [
             0.7,
             "#b8e186"
            ],
            [
             0.8,
             "#7fbc41"
            ],
            [
             0.9,
             "#4d9221"
            ],
            [
             1,
             "#276419"
            ]
           ],
           "sequential": [
            [
             0,
             "#0d0887"
            ],
            [
             0.1111111111111111,
             "#46039f"
            ],
            [
             0.2222222222222222,
             "#7201a8"
            ],
            [
             0.3333333333333333,
             "#9c179e"
            ],
            [
             0.4444444444444444,
             "#bd3786"
            ],
            [
             0.5555555555555556,
             "#d8576b"
            ],
            [
             0.6666666666666666,
             "#ed7953"
            ],
            [
             0.7777777777777778,
             "#fb9f3a"
            ],
            [
             0.8888888888888888,
             "#fdca26"
            ],
            [
             1,
             "#f0f921"
            ]
           ],
           "sequentialminus": [
            [
             0,
             "#0d0887"
            ],
            [
             0.1111111111111111,
             "#46039f"
            ],
            [
             0.2222222222222222,
             "#7201a8"
            ],
            [
             0.3333333333333333,
             "#9c179e"
            ],
            [
             0.4444444444444444,
             "#bd3786"
            ],
            [
             0.5555555555555556,
             "#d8576b"
            ],
            [
             0.6666666666666666,
             "#ed7953"
            ],
            [
             0.7777777777777778,
             "#fb9f3a"
            ],
            [
             0.8888888888888888,
             "#fdca26"
            ],
            [
             1,
             "#f0f921"
            ]
           ]
          },
          "colorway": [
           "#636efa",
           "#EF553B",
           "#00cc96",
           "#ab63fa",
           "#FFA15A",
           "#19d3f3",
           "#FF6692",
           "#B6E880",
           "#FF97FF",
           "#FECB52"
          ],
          "font": {
           "color": "#2a3f5f"
          },
          "geo": {
           "bgcolor": "white",
           "lakecolor": "white",
           "landcolor": "#E5ECF6",
           "showlakes": true,
           "showland": true,
           "subunitcolor": "white"
          },
          "hoverlabel": {
           "align": "left"
          },
          "hovermode": "closest",
          "mapbox": {
           "style": "light"
          },
          "paper_bgcolor": "white",
          "plot_bgcolor": "#E5ECF6",
          "polar": {
           "angularaxis": {
            "gridcolor": "white",
            "linecolor": "white",
            "ticks": ""
           },
           "bgcolor": "#E5ECF6",
           "radialaxis": {
            "gridcolor": "white",
            "linecolor": "white",
            "ticks": ""
           }
          },
          "scene": {
           "xaxis": {
            "backgroundcolor": "#E5ECF6",
            "gridcolor": "white",
            "gridwidth": 2,
            "linecolor": "white",
            "showbackground": true,
            "ticks": "",
            "zerolinecolor": "white"
           },
           "yaxis": {
            "backgroundcolor": "#E5ECF6",
            "gridcolor": "white",
            "gridwidth": 2,
            "linecolor": "white",
            "showbackground": true,
            "ticks": "",
            "zerolinecolor": "white"
           },
           "zaxis": {
            "backgroundcolor": "#E5ECF6",
            "gridcolor": "white",
            "gridwidth": 2,
            "linecolor": "white",
            "showbackground": true,
            "ticks": "",
            "zerolinecolor": "white"
           }
          },
          "shapedefaults": {
           "line": {
            "color": "#2a3f5f"
           }
          },
          "ternary": {
           "aaxis": {
            "gridcolor": "white",
            "linecolor": "white",
            "ticks": ""
           },
           "baxis": {
            "gridcolor": "white",
            "linecolor": "white",
            "ticks": ""
           },
           "bgcolor": "#E5ECF6",
           "caxis": {
            "gridcolor": "white",
            "linecolor": "white",
            "ticks": ""
           }
          },
          "title": {
           "x": 0.05
          },
          "xaxis": {
           "automargin": true,
           "gridcolor": "white",
           "linecolor": "white",
           "ticks": "",
           "title": {
            "standoff": 15
           },
           "zerolinecolor": "white",
           "zerolinewidth": 2
          },
          "yaxis": {
           "automargin": true,
           "gridcolor": "white",
           "linecolor": "white",
           "ticks": "",
           "title": {
            "standoff": 15
           },
           "zerolinecolor": "white",
           "zerolinewidth": 2
          }
         }
        },
        "title": {
         "text": "Popular Destinations among insured"
        }
       }
      }
     },
     "metadata": {},
     "output_type": "display_data"
    }
   ],
   "source": [
    "df1 = df.groupby(by=[\"Destination\"]).size().reset_index(name=\"counts\")\n",
    "df1.nlargest(15,['counts'])\n",
    "df1['DestinationNew'] = np.where(df1['counts']>1090, df1['Destination'], 'Others')\n",
    "fig = px.pie(df1, values='counts', names='DestinationNew', title='Popular Destinations among insured')\n",
    "fig.show()"
   ]
  },
  {
   "cell_type": "markdown",
   "id": "c42a4786",
   "metadata": {},
   "source": [
    "# gender\n"
   ]
  },
  {
   "cell_type": "code",
   "execution_count": 12,
   "id": "f514f560",
   "metadata": {},
   "outputs": [
    {
     "data": {
      "text/plain": [
       "Counter({'F': 8872, nan: 45107, 'M': 9347})"
      ]
     },
     "execution_count": 12,
     "metadata": {},
     "output_type": "execute_result"
    }
   ],
   "source": [
    "Counter(df[\"Gender\"])"
   ]
  },
  {
   "cell_type": "code",
   "execution_count": 13,
   "id": "3382f702",
   "metadata": {},
   "outputs": [],
   "source": [
    "df_mod = df.drop(columns=[\"Gender\"])"
   ]
  },
  {
   "cell_type": "code",
   "execution_count": 14,
   "id": "46426a5c",
   "metadata": {},
   "outputs": [
    {
     "data": {
      "text/html": [
       "<div>\n",
       "<style scoped>\n",
       "    .dataframe tbody tr th:only-of-type {\n",
       "        vertical-align: middle;\n",
       "    }\n",
       "\n",
       "    .dataframe tbody tr th {\n",
       "        vertical-align: top;\n",
       "    }\n",
       "\n",
       "    .dataframe thead th {\n",
       "        text-align: right;\n",
       "    }\n",
       "</style>\n",
       "<table border=\"1\" class=\"dataframe\">\n",
       "  <thead>\n",
       "    <tr style=\"text-align: right;\">\n",
       "      <th></th>\n",
       "      <th>Agency</th>\n",
       "      <th>Agency Type</th>\n",
       "      <th>Distribution Channel</th>\n",
       "      <th>Product Name</th>\n",
       "      <th>Claim</th>\n",
       "      <th>Duration</th>\n",
       "      <th>Destination</th>\n",
       "      <th>Net Sales</th>\n",
       "      <th>Commision (in value)</th>\n",
       "      <th>Age</th>\n",
       "    </tr>\n",
       "  </thead>\n",
       "  <tbody>\n",
       "    <tr>\n",
       "      <th>0</th>\n",
       "      <td>CBH</td>\n",
       "      <td>Travel Agency</td>\n",
       "      <td>Offline</td>\n",
       "      <td>Comprehensive Plan</td>\n",
       "      <td>No</td>\n",
       "      <td>186</td>\n",
       "      <td>MALAYSIA</td>\n",
       "      <td>-29.0</td>\n",
       "      <td>9.57</td>\n",
       "      <td>81</td>\n",
       "    </tr>\n",
       "    <tr>\n",
       "      <th>1</th>\n",
       "      <td>CBH</td>\n",
       "      <td>Travel Agency</td>\n",
       "      <td>Offline</td>\n",
       "      <td>Comprehensive Plan</td>\n",
       "      <td>No</td>\n",
       "      <td>186</td>\n",
       "      <td>MALAYSIA</td>\n",
       "      <td>-29.0</td>\n",
       "      <td>9.57</td>\n",
       "      <td>71</td>\n",
       "    </tr>\n",
       "    <tr>\n",
       "      <th>2</th>\n",
       "      <td>CWT</td>\n",
       "      <td>Travel Agency</td>\n",
       "      <td>Online</td>\n",
       "      <td>Rental Vehicle Excess Insurance</td>\n",
       "      <td>No</td>\n",
       "      <td>65</td>\n",
       "      <td>AUSTRALIA</td>\n",
       "      <td>-49.5</td>\n",
       "      <td>29.70</td>\n",
       "      <td>32</td>\n",
       "    </tr>\n",
       "    <tr>\n",
       "      <th>3</th>\n",
       "      <td>CWT</td>\n",
       "      <td>Travel Agency</td>\n",
       "      <td>Online</td>\n",
       "      <td>Rental Vehicle Excess Insurance</td>\n",
       "      <td>No</td>\n",
       "      <td>60</td>\n",
       "      <td>AUSTRALIA</td>\n",
       "      <td>-39.6</td>\n",
       "      <td>23.76</td>\n",
       "      <td>32</td>\n",
       "    </tr>\n",
       "    <tr>\n",
       "      <th>4</th>\n",
       "      <td>CWT</td>\n",
       "      <td>Travel Agency</td>\n",
       "      <td>Online</td>\n",
       "      <td>Rental Vehicle Excess Insurance</td>\n",
       "      <td>No</td>\n",
       "      <td>79</td>\n",
       "      <td>ITALY</td>\n",
       "      <td>-19.8</td>\n",
       "      <td>11.88</td>\n",
       "      <td>41</td>\n",
       "    </tr>\n",
       "  </tbody>\n",
       "</table>\n",
       "</div>"
      ],
      "text/plain": [
       "  Agency    Agency Type Distribution Channel                     Product Name  \\\n",
       "0    CBH  Travel Agency              Offline               Comprehensive Plan   \n",
       "1    CBH  Travel Agency              Offline               Comprehensive Plan   \n",
       "2    CWT  Travel Agency               Online  Rental Vehicle Excess Insurance   \n",
       "3    CWT  Travel Agency               Online  Rental Vehicle Excess Insurance   \n",
       "4    CWT  Travel Agency               Online  Rental Vehicle Excess Insurance   \n",
       "\n",
       "  Claim  Duration Destination  Net Sales  Commision (in value)  Age  \n",
       "0    No       186    MALAYSIA      -29.0                  9.57   81  \n",
       "1    No       186    MALAYSIA      -29.0                  9.57   71  \n",
       "2    No        65   AUSTRALIA      -49.5                 29.70   32  \n",
       "3    No        60   AUSTRALIA      -39.6                 23.76   32  \n",
       "4    No        79       ITALY      -19.8                 11.88   41  "
      ]
     },
     "execution_count": 14,
     "metadata": {},
     "output_type": "execute_result"
    }
   ],
   "source": [
    "df_mod.head()"
   ]
  },
  {
   "cell_type": "code",
   "execution_count": 15,
   "id": "ce1cf0a0",
   "metadata": {},
   "outputs": [],
   "source": [
    "# "
   ]
  },
  {
   "cell_type": "code",
   "execution_count": 16,
   "id": "8eb69d64",
   "metadata": {},
   "outputs": [
    {
     "data": {
      "text/plain": [
       "count    63326.000000\n",
       "mean        39.969981\n",
       "std         14.017010\n",
       "min          0.000000\n",
       "25%         35.000000\n",
       "50%         36.000000\n",
       "75%         43.000000\n",
       "max        118.000000\n",
       "Name: Age, dtype: float64"
      ]
     },
     "execution_count": 16,
     "metadata": {},
     "output_type": "execute_result"
    }
   ],
   "source": [
    "df_mod[\"Age\"].describe()"
   ]
  },
  {
   "cell_type": "code",
   "execution_count": 17,
   "id": "2a15c716",
   "metadata": {},
   "outputs": [
    {
     "data": {
      "text/plain": [
       "<AxesSubplot:xlabel='Age'>"
      ]
     },
     "execution_count": 17,
     "metadata": {},
     "output_type": "execute_result"
    },
    {
     "data": {
      "image/png": "[encoded data removed]",
      "text/plain": [
       "<Figure size 432x288 with 1 Axes>"
      ]
     },
     "metadata": {
      "needs_background": "light"
     },
     "output_type": "display_data"
    }
   ],
   "source": [
    "df_mod.groupby([\"Age\"]).size().plot()"
   ]
  },
  {
   "cell_type": "code",
   "execution_count": 18,
   "id": "09cdd958",
   "metadata": {},
   "outputs": [],
   "source": [
    "# np.where(df_mod['Age']>=100, 99)\n",
    "\n",
    "df_mod['Age'].mask(df_mod['Age'] >= 100, 99, inplace=True)"
   ]
  },
  {
   "cell_type": "code",
   "execution_count": 19,
   "id": "83e33428",
   "metadata": {},
   "outputs": [
    {
     "data": {
      "text/plain": [
       "<AxesSubplot:xlabel='Age'>"
      ]
     },
     "execution_count": 19,
     "metadata": {},
     "output_type": "execute_result"
    },
    {
     "data": {
      "image/png": "[encoded data removed]",
      "text/plain": [
       "<Figure size 432x288 with 1 Axes>"
      ]
     },
     "metadata": {
      "needs_background": "light"
     },
     "output_type": "display_data"
    }
   ],
   "source": [
    "df_mod.groupby([\"Age\"]).size().plot()"
   ]
  },
  {
   "cell_type": "code",
   "execution_count": 20,
   "id": "a026a307",
   "metadata": {},
   "outputs": [
    {
     "data": {
      "text/plain": [
       "count    63326.000000\n",
       "mean        49.317074\n",
       "std        101.791566\n",
       "min         -2.000000\n",
       "25%          9.000000\n",
       "50%         22.000000\n",
       "75%         53.000000\n",
       "max       4881.000000\n",
       "Name: Duration, dtype: float64"
      ]
     },
     "execution_count": 20,
     "metadata": {},
     "output_type": "execute_result"
    }
   ],
   "source": [
    "df_mod[\"Duration\"].describe()"
   ]
  },
  {
   "cell_type": "code",
   "execution_count": 21,
   "id": "1c5788e9",
   "metadata": {},
   "outputs": [
    {
     "data": {
      "text/plain": [
       "<AxesSubplot:xlabel='Duration'>"
      ]
     },
     "execution_count": 21,
     "metadata": {},
     "output_type": "execute_result"
    },
    {
     "data": {
      "image/png": "[encoded data removed]",
      "text/plain": [
       "<Figure size 432x288 with 1 Axes>"
      ]
     },
     "metadata": {
      "needs_background": "light"
     },
     "output_type": "display_data"
    }
   ],
   "source": [
    "df_mod.groupby([\"Duration\"]).size().plot()"
   ]
  },
  {
   "cell_type": "code",
   "execution_count": 22,
   "id": "71b5457b",
   "metadata": {},
   "outputs": [],
   "source": [
    "df_mod['Age'].mask(df_mod['Age'] <= 0, 10, inplace=True)"
   ]
  },
  {
   "cell_type": "code",
   "execution_count": 23,
   "id": "15d53cf8",
   "metadata": {},
   "outputs": [
    {
     "data": {
      "text/plain": [
       "count    63326.000000\n",
       "mean        39.675062\n",
       "std         12.486074\n",
       "min          1.000000\n",
       "25%         35.000000\n",
       "50%         36.000000\n",
       "75%         43.000000\n",
       "max         99.000000\n",
       "Name: Age, dtype: float64"
      ]
     },
     "execution_count": 23,
     "metadata": {},
     "output_type": "execute_result"
    }
   ],
   "source": [
    "df_mod[\"Age\"].describe()"
   ]
  },
  {
   "cell_type": "code",
   "execution_count": 24,
   "id": "f6664f1c",
   "metadata": {},
   "outputs": [],
   "source": [
    "df_mod[\"Duration\"] = [ i//24+1 for i in df_mod[\"Duration\"]]"
   ]
  },
  {
   "cell_type": "code",
   "execution_count": 25,
   "id": "00b98911",
   "metadata": {},
   "outputs": [],
   "source": [
    "df_mod1 = df_mod.drop(columns=\"Age\")"
   ]
  },
  {
   "cell_type": "code",
   "execution_count": 26,
   "id": "5652b0b7",
   "metadata": {},
   "outputs": [
    {
     "data": {
      "text/html": [
       "<div>\n",
       "<style scoped>\n",
       "    .dataframe tbody tr th:only-of-type {\n",
       "        vertical-align: middle;\n",
       "    }\n",
       "\n",
       "    .dataframe tbody tr th {\n",
       "        vertical-align: top;\n",
       "    }\n",
       "\n",
       "    .dataframe thead th {\n",
       "        text-align: right;\n",
       "    }\n",
       "</style>\n",
       "<table border=\"1\" class=\"dataframe\">\n",
       "  <thead>\n",
       "    <tr style=\"text-align: right;\">\n",
       "      <th></th>\n",
       "      <th>Agency</th>\n",
       "      <th>Agency Type</th>\n",
       "      <th>Distribution Channel</th>\n",
       "      <th>Product Name</th>\n",
       "      <th>Claim</th>\n",
       "      <th>Duration</th>\n",
       "      <th>Destination</th>\n",
       "      <th>Net Sales</th>\n",
       "      <th>Commision (in value)</th>\n",
       "    </tr>\n",
       "  </thead>\n",
       "  <tbody>\n",
       "    <tr>\n",
       "      <th>0</th>\n",
       "      <td>CBH</td>\n",
       "      <td>Travel Agency</td>\n",
       "      <td>Offline</td>\n",
       "      <td>Comprehensive Plan</td>\n",
       "      <td>No</td>\n",
       "      <td>8</td>\n",
       "      <td>MALAYSIA</td>\n",
       "      <td>-29.0</td>\n",
       "      <td>9.57</td>\n",
       "    </tr>\n",
       "    <tr>\n",
       "      <th>1</th>\n",
       "      <td>CBH</td>\n",
       "      <td>Travel Agency</td>\n",
       "      <td>Offline</td>\n",
       "      <td>Comprehensive Plan</td>\n",
       "      <td>No</td>\n",
       "      <td>8</td>\n",
       "      <td>MALAYSIA</td>\n",
       "      <td>-29.0</td>\n",
       "      <td>9.57</td>\n",
       "    </tr>\n",
       "    <tr>\n",
       "      <th>2</th>\n",
       "      <td>CWT</td>\n",
       "      <td>Travel Agency</td>\n",
       "      <td>Online</td>\n",
       "      <td>Rental Vehicle Excess Insurance</td>\n",
       "      <td>No</td>\n",
       "      <td>3</td>\n",
       "      <td>AUSTRALIA</td>\n",
       "      <td>-49.5</td>\n",
       "      <td>29.70</td>\n",
       "    </tr>\n",
       "    <tr>\n",
       "      <th>3</th>\n",
       "      <td>CWT</td>\n",
       "      <td>Travel Agency</td>\n",
       "      <td>Online</td>\n",
       "      <td>Rental Vehicle Excess Insurance</td>\n",
       "      <td>No</td>\n",
       "      <td>3</td>\n",
       "      <td>AUSTRALIA</td>\n",
       "      <td>-39.6</td>\n",
       "      <td>23.76</td>\n",
       "    </tr>\n",
       "    <tr>\n",
       "      <th>4</th>\n",
       "      <td>CWT</td>\n",
       "      <td>Travel Agency</td>\n",
       "      <td>Online</td>\n",
       "      <td>Rental Vehicle Excess Insurance</td>\n",
       "      <td>No</td>\n",
       "      <td>4</td>\n",
       "      <td>ITALY</td>\n",
       "      <td>-19.8</td>\n",
       "      <td>11.88</td>\n",
       "    </tr>\n",
       "    <tr>\n",
       "      <th>...</th>\n",
       "      <td>...</td>\n",
       "      <td>...</td>\n",
       "      <td>...</td>\n",
       "      <td>...</td>\n",
       "      <td>...</td>\n",
       "      <td>...</td>\n",
       "      <td>...</td>\n",
       "      <td>...</td>\n",
       "      <td>...</td>\n",
       "    </tr>\n",
       "    <tr>\n",
       "      <th>63321</th>\n",
       "      <td>JZI</td>\n",
       "      <td>Airlines</td>\n",
       "      <td>Online</td>\n",
       "      <td>Basic Plan</td>\n",
       "      <td>No</td>\n",
       "      <td>5</td>\n",
       "      <td>JAPAN</td>\n",
       "      <td>35.0</td>\n",
       "      <td>12.25</td>\n",
       "    </tr>\n",
       "    <tr>\n",
       "      <th>63322</th>\n",
       "      <td>JZI</td>\n",
       "      <td>Airlines</td>\n",
       "      <td>Online</td>\n",
       "      <td>Basic Plan</td>\n",
       "      <td>No</td>\n",
       "      <td>3</td>\n",
       "      <td>CHINA</td>\n",
       "      <td>40.0</td>\n",
       "      <td>14.00</td>\n",
       "    </tr>\n",
       "    <tr>\n",
       "      <th>63323</th>\n",
       "      <td>JZI</td>\n",
       "      <td>Airlines</td>\n",
       "      <td>Online</td>\n",
       "      <td>Basic Plan</td>\n",
       "      <td>No</td>\n",
       "      <td>1</td>\n",
       "      <td>MALAYSIA</td>\n",
       "      <td>18.0</td>\n",
       "      <td>6.30</td>\n",
       "    </tr>\n",
       "    <tr>\n",
       "      <th>63324</th>\n",
       "      <td>JZI</td>\n",
       "      <td>Airlines</td>\n",
       "      <td>Online</td>\n",
       "      <td>Basic Plan</td>\n",
       "      <td>No</td>\n",
       "      <td>1</td>\n",
       "      <td>VIET NAM</td>\n",
       "      <td>18.0</td>\n",
       "      <td>6.30</td>\n",
       "    </tr>\n",
       "    <tr>\n",
       "      <th>63325</th>\n",
       "      <td>JZI</td>\n",
       "      <td>Airlines</td>\n",
       "      <td>Online</td>\n",
       "      <td>Basic Plan</td>\n",
       "      <td>No</td>\n",
       "      <td>1</td>\n",
       "      <td>HONG KONG</td>\n",
       "      <td>26.0</td>\n",
       "      <td>9.10</td>\n",
       "    </tr>\n",
       "  </tbody>\n",
       "</table>\n",
       "<p>63326 rows × 9 columns</p>\n",
       "</div>"
      ],
      "text/plain": [
       "      Agency    Agency Type Distribution Channel  \\\n",
       "0        CBH  Travel Agency              Offline   \n",
       "1        CBH  Travel Agency              Offline   \n",
       "2        CWT  Travel Agency               Online   \n",
       "3        CWT  Travel Agency               Online   \n",
       "4        CWT  Travel Agency               Online   \n",
       "...      ...            ...                  ...   \n",
       "63321    JZI       Airlines               Online   \n",
       "63322    JZI       Airlines               Online   \n",
       "63323    JZI       Airlines               Online   \n",
       "63324    JZI       Airlines               Online   \n",
       "63325    JZI       Airlines               Online   \n",
       "\n",
       "                          Product Name Claim  Duration Destination  Net Sales  \\\n",
       "0                   Comprehensive Plan    No         8    MALAYSIA      -29.0   \n",
       "1                   Comprehensive Plan    No         8    MALAYSIA      -29.0   \n",
       "2      Rental Vehicle Excess Insurance    No         3   AUSTRALIA      -49.5   \n",
       "3      Rental Vehicle Excess Insurance    No         3   AUSTRALIA      -39.6   \n",
       "4      Rental Vehicle Excess Insurance    No         4       ITALY      -19.8   \n",
       "...                                ...   ...       ...         ...        ...   \n",
       "63321                       Basic Plan    No         5       JAPAN       35.0   \n",
       "63322                       Basic Plan    No         3       CHINA       40.0   \n",
       "63323                       Basic Plan    No         1    MALAYSIA       18.0   \n",
       "63324                       Basic Plan    No         1    VIET NAM       18.0   \n",
       "63325                       Basic Plan    No         1   HONG KONG       26.0   \n",
       "\n",
       "       Commision (in value)  \n",
       "0                      9.57  \n",
       "1                      9.57  \n",
       "2                     29.70  \n",
       "3                     23.76  \n",
       "4                     11.88  \n",
       "...                     ...  \n",
       "63321                 12.25  \n",
       "63322                 14.00  \n",
       "63323                  6.30  \n",
       "63324                  6.30  \n",
       "63325                  9.10  \n",
       "\n",
       "[63326 rows x 9 columns]"
      ]
     },
     "execution_count": 26,
     "metadata": {},
     "output_type": "execute_result"
    }
   ],
   "source": [
    "df_mod1"
   ]
  },
  {
   "cell_type": "markdown",
   "id": "c96da35f",
   "metadata": {},
   "source": [
    "# Preprocess"
   ]
  },
  {
   "cell_type": "code",
   "execution_count": 27,
   "id": "01e7bbb6",
   "metadata": {},
   "outputs": [],
   "source": [
    "from sklearn import preprocessing\n",
    "# label_encoder1 = preprocessing.OneHotEncoder()"
   ]
  },
  {
   "cell_type": "code",
   "execution_count": 28,
   "id": "ad822f5f",
   "metadata": {},
   "outputs": [],
   "source": [
    "df_final = pd.get_dummies(df_mod1,columns= [\"Agency\",\"Claim\",\"Destination\",\"Product Name\",\"Distribution Channel\",\"Agency Type\"])"
   ]
  },
  {
   "cell_type": "code",
   "execution_count": 29,
   "id": "98553326",
   "metadata": {},
   "outputs": [
    {
     "data": {
      "text/html": [
       "<div>\n",
       "<style scoped>\n",
       "    .dataframe tbody tr th:only-of-type {\n",
       "        vertical-align: middle;\n",
       "    }\n",
       "\n",
       "    .dataframe tbody tr th {\n",
       "        vertical-align: top;\n",
       "    }\n",
       "\n",
       "    .dataframe thead th {\n",
       "        text-align: right;\n",
       "    }\n",
       "</style>\n",
       "<table border=\"1\" class=\"dataframe\">\n",
       "  <thead>\n",
       "    <tr style=\"text-align: right;\">\n",
       "      <th></th>\n",
       "      <th>Duration</th>\n",
       "      <th>Net Sales</th>\n",
       "      <th>Commision (in value)</th>\n",
       "      <th>Agency_ADM</th>\n",
       "      <th>Agency_ART</th>\n",
       "      <th>Agency_C2B</th>\n",
       "      <th>Agency_CBH</th>\n",
       "      <th>Agency_CCR</th>\n",
       "      <th>Agency_CSR</th>\n",
       "      <th>Agency_CWT</th>\n",
       "      <th>...</th>\n",
       "      <th>Product Name_Single Trip Travel Protect Silver</th>\n",
       "      <th>Product Name_Spouse or Parents Comprehensive Plan</th>\n",
       "      <th>Product Name_Ticket Protector</th>\n",
       "      <th>Product Name_Travel Cruise Protect</th>\n",
       "      <th>Product Name_Travel Cruise Protect Family</th>\n",
       "      <th>Product Name_Value Plan</th>\n",
       "      <th>Distribution Channel_Offline</th>\n",
       "      <th>Distribution Channel_Online</th>\n",
       "      <th>Agency Type_Airlines</th>\n",
       "      <th>Agency Type_Travel Agency</th>\n",
       "    </tr>\n",
       "  </thead>\n",
       "  <tbody>\n",
       "    <tr>\n",
       "      <th>0</th>\n",
       "      <td>8</td>\n",
       "      <td>-29.0</td>\n",
       "      <td>9.57</td>\n",
       "      <td>0</td>\n",
       "      <td>0</td>\n",
       "      <td>0</td>\n",
       "      <td>1</td>\n",
       "      <td>0</td>\n",
       "      <td>0</td>\n",
       "      <td>0</td>\n",
       "      <td>...</td>\n",
       "      <td>0</td>\n",
       "      <td>0</td>\n",
       "      <td>0</td>\n",
       "      <td>0</td>\n",
       "      <td>0</td>\n",
       "      <td>0</td>\n",
       "      <td>1</td>\n",
       "      <td>0</td>\n",
       "      <td>0</td>\n",
       "      <td>1</td>\n",
       "    </tr>\n",
       "    <tr>\n",
       "      <th>1</th>\n",
       "      <td>8</td>\n",
       "      <td>-29.0</td>\n",
       "      <td>9.57</td>\n",
       "      <td>0</td>\n",
       "      <td>0</td>\n",
       "      <td>0</td>\n",
       "      <td>1</td>\n",
       "      <td>0</td>\n",
       "      <td>0</td>\n",
       "      <td>0</td>\n",
       "      <td>...</td>\n",
       "      <td>0</td>\n",
       "      <td>0</td>\n",
       "      <td>0</td>\n",
       "      <td>0</td>\n",
       "      <td>0</td>\n",
       "      <td>0</td>\n",
       "      <td>1</td>\n",
       "      <td>0</td>\n",
       "      <td>0</td>\n",
       "      <td>1</td>\n",
       "    </tr>\n",
       "    <tr>\n",
       "      <th>2</th>\n",
       "      <td>3</td>\n",
       "      <td>-49.5</td>\n",
       "      <td>29.70</td>\n",
       "      <td>0</td>\n",
       "      <td>0</td>\n",
       "      <td>0</td>\n",
       "      <td>0</td>\n",
       "      <td>0</td>\n",
       "      <td>0</td>\n",
       "      <td>1</td>\n",
       "      <td>...</td>\n",
       "      <td>0</td>\n",
       "      <td>0</td>\n",
       "      <td>0</td>\n",
       "      <td>0</td>\n",
       "      <td>0</td>\n",
       "      <td>0</td>\n",
       "      <td>0</td>\n",
       "      <td>1</td>\n",
       "      <td>0</td>\n",
       "      <td>1</td>\n",
       "    </tr>\n",
       "    <tr>\n",
       "      <th>3</th>\n",
       "      <td>3</td>\n",
       "      <td>-39.6</td>\n",
       "      <td>23.76</td>\n",
       "      <td>0</td>\n",
       "      <td>0</td>\n",
       "      <td>0</td>\n",
       "      <td>0</td>\n",
       "      <td>0</td>\n",
       "      <td>0</td>\n",
       "      <td>1</td>\n",
       "      <td>...</td>\n",
       "      <td>0</td>\n",
       "      <td>0</td>\n",
       "      <td>0</td>\n",
       "      <td>0</td>\n",
       "      <td>0</td>\n",
       "      <td>0</td>\n",
       "      <td>0</td>\n",
       "      <td>1</td>\n",
       "      <td>0</td>\n",
       "      <td>1</td>\n",
       "    </tr>\n",
       "    <tr>\n",
       "      <th>4</th>\n",
       "      <td>4</td>\n",
       "      <td>-19.8</td>\n",
       "      <td>11.88</td>\n",
       "      <td>0</td>\n",
       "      <td>0</td>\n",
       "      <td>0</td>\n",
       "      <td>0</td>\n",
       "      <td>0</td>\n",
       "      <td>0</td>\n",
       "      <td>1</td>\n",
       "      <td>...</td>\n",
       "      <td>0</td>\n",
       "      <td>0</td>\n",
       "      <td>0</td>\n",
       "      <td>0</td>\n",
       "      <td>0</td>\n",
       "      <td>0</td>\n",
       "      <td>0</td>\n",
       "      <td>1</td>\n",
       "      <td>0</td>\n",
       "      <td>1</td>\n",
       "    </tr>\n",
       "  </tbody>\n",
       "</table>\n",
       "<p>5 rows × 200 columns</p>\n",
       "</div>"
      ],
      "text/plain": [
       "   Duration  Net Sales  Commision (in value)  Agency_ADM  Agency_ART  \\\n",
       "0         8      -29.0                  9.57           0           0   \n",
       "1         8      -29.0                  9.57           0           0   \n",
       "2         3      -49.5                 29.70           0           0   \n",
       "3         3      -39.6                 23.76           0           0   \n",
       "4         4      -19.8                 11.88           0           0   \n",
       "\n",
       "   Agency_C2B  Agency_CBH  Agency_CCR  Agency_CSR  Agency_CWT  ...  \\\n",
       "0           0           1           0           0           0  ...   \n",
       "1           0           1           0           0           0  ...   \n",
       "2           0           0           0           0           1  ...   \n",
       "3           0           0           0           0           1  ...   \n",
       "4           0           0           0           0           1  ...   \n",
       "\n",
       "   Product Name_Single Trip Travel Protect Silver  \\\n",
       "0                                               0   \n",
       "1                                               0   \n",
       "2                                               0   \n",
       "3                                               0   \n",
       "4                                               0   \n",
       "\n",
       "   Product Name_Spouse or Parents Comprehensive Plan  \\\n",
       "0                                                  0   \n",
       "1                                                  0   \n",
       "2                                                  0   \n",
       "3                                                  0   \n",
       "4                                                  0   \n",
       "\n",
       "   Product Name_Ticket Protector  Product Name_Travel Cruise Protect  \\\n",
       "0                              0                                   0   \n",
       "1                              0                                   0   \n",
       "2                              0                                   0   \n",
       "3                              0                                   0   \n",
       "4                              0                                   0   \n",
       "\n",
       "   Product Name_Travel Cruise Protect Family  Product Name_Value Plan  \\\n",
       "0                                          0                        0   \n",
       "1                                          0                        0   \n",
       "2                                          0                        0   \n",
       "3                                          0                        0   \n",
       "4                                          0                        0   \n",
       "\n",
       "   Distribution Channel_Offline  Distribution Channel_Online  \\\n",
       "0                             1                            0   \n",
       "1                             1                            0   \n",
       "2                             0                            1   \n",
       "3                             0                            1   \n",
       "4                             0                            1   \n",
       "\n",
       "   Agency Type_Airlines  Agency Type_Travel Agency  \n",
       "0                     0                          1  \n",
       "1                     0                          1  \n",
       "2                     0                          1  \n",
       "3                     0                          1  \n",
       "4                     0                          1  \n",
       "\n",
       "[5 rows x 200 columns]"
      ]
     },
     "execution_count": 29,
     "metadata": {},
     "output_type": "execute_result"
    }
   ],
   "source": [
    "df_final.head()"
   ]
  },
  {
   "cell_type": "code",
   "execution_count": 30,
   "id": "ba7e0b7d",
   "metadata": {},
   "outputs": [],
   "source": [
    "df_final.to_csv(\"df_mod_final.csv\")"
   ]
  },
  {
   "cell_type": "code",
   "execution_count": 31,
   "id": "0fc84e16",
   "metadata": {},
   "outputs": [],
   "source": [
    "df_mod1.to_csv(\"df_mod_raw.csv\")"
   ]
  },
  {
   "cell_type": "code",
   "execution_count": 169,
   "id": "88535ac2",
   "metadata": {},
   "outputs": [],
   "source": [
    "## Feature Selection"
   ]
  },
  {
   "cell_type": "code",
   "execution_count": 48,
   "id": "d51852b8",
   "metadata": {},
   "outputs": [],
   "source": [
    "#\n",
    "#\n",
    "from sklearn.decomposition import PCA"
   ]
  },
  {
   "cell_type": "code",
   "execution_count": 68,
   "id": "a2428313",
   "metadata": {},
   "outputs": [
    {
     "data": {
      "text/plain": [
       "array([[  8.  , -29.  ,   9.57, ...,   0.  ,   0.  ,   1.  ],\n",
       "       [  8.  , -29.  ,   9.57, ...,   0.  ,   0.  ,   1.  ],\n",
       "       [  3.  , -49.5 ,  29.7 , ...,   1.  ,   0.  ,   1.  ],\n",
       "       ...,\n",
       "       [  1.  ,  18.  ,   6.3 , ...,   1.  ,   1.  ,   0.  ],\n",
       "       [  1.  ,  18.  ,   6.3 , ...,   1.  ,   1.  ,   0.  ],\n",
       "       [  1.  ,  26.  ,   9.1 , ...,   1.  ,   1.  ,   0.  ]])"
      ]
     },
     "execution_count": 68,
     "metadata": {},
     "output_type": "execute_result"
    }
   ],
   "source": [
    "X= np.array(df_final)\n",
    "X"
   ]
  },
  {
   "cell_type": "code",
   "execution_count": 79,
   "id": "5faede29",
   "metadata": {},
   "outputs": [],
   "source": [
    "pca = PCA(n_components= 5)"
   ]
  },
  {
   "cell_type": "code",
   "execution_count": 82,
   "id": "9e20ed2e",
   "metadata": {},
   "outputs": [
    {
     "data": {
      "text/plain": [
       "PCA(n_components=5)"
      ]
     },
     "execution_count": 82,
     "metadata": {},
     "output_type": "execute_result"
    }
   ],
   "source": [
    "pca.fit(X)"
   ]
  },
  {
   "cell_type": "code",
   "execution_count": 83,
   "id": "3aec47e5",
   "metadata": {},
   "outputs": [
    {
     "name": "stdout",
     "output_type": "stream",
     "text": [
      "[9.18838336e-01 7.50414414e-02 5.19497257e-03 2.55540462e-04\n",
      " 9.62392517e-05]\n"
     ]
    }
   ],
   "source": [
    "print(pca.explained_variance_ratio_)"
   ]
  },
  {
   "cell_type": "code",
   "execution_count": 84,
   "id": "f3a1969f",
   "metadata": {},
   "outputs": [
    {
     "name": "stdout",
     "output_type": "stream",
     "text": [
      "[12761.58063604  3646.99778406   959.5697426    212.82113418\n",
      "   130.60537017]\n"
     ]
    }
   ],
   "source": [
    "print(pca.singular_values_)"
   ]
  },
  {
   "cell_type": "code",
   "execution_count": 85,
   "id": "0a359b4d",
   "metadata": {},
   "outputs": [
    {
     "data": {
      "text/plain": [
       "PCA(n_components=5)"
      ]
     },
     "execution_count": 85,
     "metadata": {},
     "output_type": "execute_result"
    }
   ],
   "source": [
    "pca.fit(X, y=None)"
   ]
  },
  {
   "cell_type": "code",
   "execution_count": 86,
   "id": "b32e28ef",
   "metadata": {},
   "outputs": [
    {
     "data": {
      "text/plain": [
       "array([[-66.77687814,  19.28517867,   7.51699097,   0.13704266,\n",
       "          0.23707927],\n",
       "       [-66.77687814,  19.28517867,   7.51699097,   0.13704266,\n",
       "          0.23707927],\n",
       "       [-81.03913847,  44.26867607,   2.6270993 ,   0.51022532,\n",
       "          0.19133056],\n",
       "       ...,\n",
       "       [-22.82426357,   2.95037804,  -0.83775389,  -1.29341798,\n",
       "          0.71729383],\n",
       "       [-22.82374593,   2.94908115,  -0.83680763,  -1.32247432,\n",
       "          0.66057182],\n",
       "       [-14.36633435,   3.40726838,  -1.15249935,  -1.29577563,\n",
       "          0.67482727]])"
      ]
     },
     "execution_count": 86,
     "metadata": {},
     "output_type": "execute_result"
    }
   ],
   "source": [
    "pca.fit_transform(X, y=None)"
   ]
  },
  {
   "cell_type": "code",
   "execution_count": 87,
   "id": "df852cff",
   "metadata": {
    "scrolled": true
   },
   "outputs": [
    {
     "data": {
      "text/plain": [
       "array([[ 1.79773456e+01,  8.86171801e+01,  2.88611866e+01, ...,\n",
       "        -2.26380424e-02,  2.13955521e-01, -2.13955521e-01],\n",
       "       [ 8.86171801e+01,  2.38589628e+03,  6.30054519e+02, ...,\n",
       "         7.07383682e-02,  3.39460790e+00, -3.39460790e+00],\n",
       "       [ 2.88611866e+01,  6.30054519e+02,  3.92213681e+02, ...,\n",
       "         1.33799405e-02,  1.57546004e+00, -1.57546004e+00],\n",
       "       ...,\n",
       "       [-2.26380424e-02,  7.07383682e-02,  1.33799405e-02, ...,\n",
       "         8.38847672e-03,  6.99734328e-04, -6.99734328e-04],\n",
       "       [ 2.13955521e-01,  3.39460790e+00,  1.57546004e+00, ...,\n",
       "         6.99734328e-04,  1.97648485e-01, -1.89417134e-01],\n",
       "       [-2.13955521e-01, -3.39460790e+00, -1.57546004e+00, ...,\n",
       "        -6.99734328e-04, -1.89417134e-01,  1.97648485e-01]])"
      ]
     },
     "execution_count": 87,
     "metadata": {},
     "output_type": "execute_result"
    }
   ],
   "source": [
    "pca.get_covariance()"
   ]
  },
  {
   "cell_type": "code",
   "execution_count": 88,
   "id": "aba83670",
   "metadata": {},
   "outputs": [
    {
     "data": {
      "text/plain": [
       "{'copy': True,\n",
       " 'iterated_power': 'auto',\n",
       " 'n_components': 5,\n",
       " 'random_state': None,\n",
       " 'svd_solver': 'auto',\n",
       " 'tol': 0.0,\n",
       " 'whiten': False}"
      ]
     },
     "execution_count": 88,
     "metadata": {},
     "output_type": "execute_result"
    }
   ],
   "source": [
    "pca.get_params(deep=True)"
   ]
  },
  {
   "cell_type": "code",
   "execution_count": 89,
   "id": "7d750c7b",
   "metadata": {},
   "outputs": [
    {
     "data": {
      "text/plain": [
       "array([[-66.77687814,  19.28517867,   7.51699097,   0.13704266,\n",
       "          0.23707727],\n",
       "       [-66.77687814,  19.28517867,   7.51699097,   0.13704266,\n",
       "          0.23707727],\n",
       "       [-81.03913847,  44.26867607,   2.6270993 ,   0.51022532,\n",
       "          0.19132902],\n",
       "       ...,\n",
       "       [-22.82426357,   2.95037804,  -0.83775389,  -1.29341798,\n",
       "          0.71729378],\n",
       "       [-22.82374593,   2.94908115,  -0.83680763,  -1.32247432,\n",
       "          0.66057204],\n",
       "       [-14.36633435,   3.40726838,  -1.15249935,  -1.29577564,\n",
       "          0.67482817]])"
      ]
     },
     "execution_count": 89,
     "metadata": {},
     "output_type": "execute_result"
    }
   ],
   "source": [
    "pca.transform(X)"
   ]
  }
 ],
 "metadata": {
  "kernelspec": {
   "display_name": "Python 3.9.7 64-bit ('base': conda)",
   "language": "python",
   "name": "python397jvsc74a57bd0c6e4e9f98eb68ad3b7c296f83d20e6de614cb42e90992a65aa266555a3137d0d"
  },
  "language_info": {
   "codemirror_mode": {
    "name": "ipython",
    "version": 3
   },
   "file_extension": ".py",
   "mimetype": "text/x-python",
   "name": "python",
   "nbconvert_exporter": "python",
   "pygments_lexer": "ipython3",
   "version": "3.9.7"
  }
 },
 "nbformat": 4,
 "nbformat_minor": 5
}
